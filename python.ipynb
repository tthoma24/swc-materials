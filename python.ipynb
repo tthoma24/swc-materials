{
 "cells": [
  {
   "cell_type": "markdown",
   "metadata": {},
   "source": [
    "# Plotting and Programming in Python 👑 💻 🐍\n",
    "\n",
    "contact: teddy thomas / tthoma24@columbia.edu\n cesar arias / ca2783@columbia.edu\n",
    "<hr>\n",
    "\n",
    "### Table of Contents\n",
    "\n",
    "#### Part I\n",
    "\n",
    "1. [Running and Quitting](#1.-Running-and-Quitting)\n",
    "2. [Variables and Assignment](#2.-Variables-and-Assignment)\n",
    "3. [Data Types and Type Conversion](#3.-Data-Types-and-Type-Conversion)\n",
    "4. [Built-in Functions and Help](#4.-Built-in-Functions-and-Help)\n",
    "5. [Libraries](#5.-Libraries)\n",
    "6. [Reading Tabular Data into DataFrames](#6.-Reading-Tabular-Data-into-DataFrames)\n",
    "7. [Pandas DataFrames](#7.-Pandas-DataFrames)\n",
    "\n",
    "#### Part II\n",
    "\n",
    "8. [Lists](#8.-Lists)\n",
    "9. [For Loops](#9.-For-Loops)\n",
    "10. [Looping Over Data Sets](#10.-Looping-Over-Data-Sets)\n",
    "11. [Writing Functions](#11.-Writing-Functions)\n",
    "12. [Variable Scope](#12.-Variable-Scope)\n",
    "13. [Conditionals](#13.-Conditionals)\n",
    "14. [Programming Style](#14.-Programming-Style)"
   ]
  },
  {
   "cell_type": "markdown",
   "metadata": {},
   "source": [
    "## Check-In\n",
    "\n",
    "- Do you have `python-novice-gapminder-data.zip` downloaded and unpacked in your current directory?"
   ]
  },
  {
   "cell_type": "code",
   "execution_count": null,
   "metadata": {},
   "outputs": [],
   "source": []
  },
  {
   "cell_type": "markdown",
   "metadata": {},
   "source": [
    "- Can your notebook import the `pandas` library using anaconda?"
   ]
  },
  {
   "cell_type": "code",
   "execution_count": null,
   "metadata": {},
   "outputs": [],
   "source": []
  },
  {
   "cell_type": "markdown",
   "metadata": {},
   "source": [
    "## 1. Running and Quitting"
   ]
  },
  {
   "cell_type": "markdown",
   "metadata": {},
   "source": []
  },
  {
   "cell_type": "markdown",
   "metadata": {},
   "source": [
    "## 2. Variables and Assignment\n",
    "\n",
    "[Slide #1: Variables](https://slides.com/marii/cul-swc-python#/1)"
   ]
  },
  {
   "cell_type": "code",
   "execution_count": null,
   "metadata": {},
   "outputs": [],
   "source": []
  },
  {
   "cell_type": "markdown",
   "metadata": {},
   "source": [
    "## 3. Data Types and Type Conversion\n",
    "\n",
    "[Slide #2: Data Types](https://slides.com/marii/cul-swc-python#/2)"
   ]
  },
  {
   "cell_type": "code",
   "execution_count": null,
   "metadata": {},
   "outputs": [],
   "source": []
  },
  {
   "cell_type": "markdown",
   "metadata": {},
   "source": [
    "## 4. Built-in Functions and Help \n",
    "\n",
    "[Slide #3: Functions + Syntax](https://slides.com/marii/cul-swc-python#/3)"
   ]
  },
  {
   "cell_type": "code",
   "execution_count": null,
   "metadata": {},
   "outputs": [],
   "source": []
  },
  {
   "cell_type": "markdown",
   "metadata": {},
   "source": [
    "## 5. Libraries\n",
    "\n",
    "[Slide #4: What are Libraries?](https://slides.com/marii/cul-swc-python#/4)"
   ]
  },
  {
   "cell_type": "code",
   "execution_count": null,
   "metadata": {},
   "outputs": [],
   "source": []
  },
  {
   "cell_type": "markdown",
   "metadata": {},
   "source": [
    "## 6. Reading Tabular Data into DataFrames\n",
    "\n",
    "\n",
    "[Slide #5: What is Tabular Data?](https://slides.com/marii/cul-swc-python#/5)"
   ]
  },
  {
   "cell_type": "code",
   "execution_count": null,
   "metadata": {},
   "outputs": [],
   "source": []
  },
  {
   "cell_type": "markdown",
   "metadata": {},
   "source": [
    "## 7. Pandas DataFrames\n",
    "\n",
    "[Slide #6: Selecting values](https://slides.com/marii/cul-swc-python#/6)"
   ]
  },
  {
   "cell_type": "code",
   "execution_count": null,
   "metadata": {},
   "outputs": [],
   "source": []
  },
  {
   "cell_type": "markdown",
   "metadata": {},
   "source": [
    "## 7. Plotting"
   ]
  },
  {
   "cell_type": "code",
   "execution_count": null,
   "metadata": {},
   "outputs": [],
   "source": []
  },
  {
   "cell_type": "markdown",
   "metadata": {},
   "source": [
    "## 8. Lists"
   ]
  },
  {
   "cell_type": "code",
   "execution_count": null,
   "metadata": {},
   "outputs": [],
   "source": []
  },
  {
   "cell_type": "markdown",
   "metadata": {},
   "source": [
    "## 9. For Loops"
   ]
  },
  {
   "cell_type": "code",
   "execution_count": null,
   "metadata": {},
   "outputs": [],
   "source": []
  },
  {
   "cell_type": "markdown",
   "metadata": {},
   "source": [
    "## 10. Looping Over Data Sets"
   ]
  },
  {
   "cell_type": "code",
   "execution_count": null,
   "metadata": {},
   "outputs": [],
   "source": []
  },
  {
   "cell_type": "markdown",
   "metadata": {},
   "source": [
    "## 11. Writing Functions"
   ]
  },
  {
   "cell_type": "code",
   "execution_count": null,
   "metadata": {},
   "outputs": [],
   "source": []
  },
  {
   "cell_type": "markdown",
   "metadata": {},
   "source": [
    "## 12. Variable Scope"
   ]
  },
  {
   "cell_type": "code",
   "execution_count": null,
   "metadata": {},
   "outputs": [],
   "source": []
  },
  {
   "cell_type": "markdown",
   "metadata": {},
   "source": [
    "## 13. Conditionals"
   ]
  },
  {
   "cell_type": "code",
   "execution_count": null,
   "metadata": {},
   "outputs": [],
   "source": []
  },
  {
   "cell_type": "markdown",
   "metadata": {},
   "source": [
    "## 14. Programming Style"
   ]
  },
  {
   "cell_type": "code",
   "execution_count": null,
   "metadata": {},
   "outputs": [],
   "source": []
  }
 ],
 "metadata": {
  "kernelspec": {
   "display_name": "Python 3",
   "language": "python",
   "name": "python3"
  },
  "language_info": {
   "codemirror_mode": {
    "name": "ipython",
    "version": 3
   },
   "file_extension": ".py",
   "mimetype": "text/x-python",
   "name": "python",
   "nbconvert_exporter": "python",
   "pygments_lexer": "ipython3",
   "version": "3.7.0"
  }
 },
 "nbformat": 4,
 "nbformat_minor": 2
}
